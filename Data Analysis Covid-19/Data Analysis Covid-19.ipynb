{
 "cells": [
  {
   "cell_type": "markdown",
   "metadata": {
    "colab_type": "text",
    "id": "iRl5yhQhPX1z"
   },
   "source": [
    "# Data Analysis Covid-19\n",
    "**Covid-19** adalah pandemi yang sudah mewabah ke seluruh dunia. Sebagian besar negara-negara di dunia sudah terjangkit. Penanganan tiap-tiap negara pun berbeda, sesuai dengan kebijakan pemerintah. Hal ini mengakibatkan perbedaan trend kenaikan atau penurunan kasus covid berbeda-beda tiap negara.\n",
    "\n",
    "Pada kesempatan kali ini, kita akan membahas salah satu project dari DQLab mengenai **Analisis Data Covid-19 di Dunia dan ASEAN**.\n",
    "Dataset yang digunakan adalah data covid-19 dari salah satu open API yang tersedia yaitu https://covid19-api.org/."
   ]
  },
  {
   "cell_type": "markdown",
   "metadata": {
    "colab_type": "text",
    "id": "l-Djma1EPCyy"
   },
   "source": [
    "# Import Library\n",
    "Library yang akan digunakan dalam kasus ini, yaitu\n",
    "* *requests* untuk menunjuk API url yang akan diakses\n",
    "* *json* untuk mengambil data dengan extensi json\n",
    "* *numpy* untuk perhitungan numerik\n",
    "* *pandas* untuk membuat dataframe dan manipulasi data\n",
    "* *matplotlib* untuk memvisualisasi data dengan grafik\n",
    "\n"
   ]
  },
  {
   "cell_type": "code",
   "execution_count": 63,
   "metadata": {
    "colab": {},
    "colab_type": "code",
    "id": "SC8ez-nDR7Yn"
   },
   "outputs": [],
   "source": [
    "# Import library yang digunakan\n",
    "import requests\n",
    "import json\n",
    "import numpy as np\n",
    "import pandas as pd\n",
    "import matplotlib.pyplot as plt\n",
    "\n",
    "import warnings\n",
    "warnings.filterwarnings(\"ignore\")"
   ]
  },
  {
   "cell_type": "markdown",
   "metadata": {
    "colab_type": "text",
    "id": "AOCVY4yfUAaH"
   },
   "source": [
    "# Mengakses Data\n"
   ]
  },
  {
   "cell_type": "markdown",
   "metadata": {
    "colab_type": "text",
    "id": "XZt6k-flUO8r"
   },
   "source": [
    "## Membuat Fungsi get API\n",
    "Tahap pertama adalah membuat fungsi python untuk mengambil data json pada url yang ditunjuk/dipilih. Dimana data sukses diambil dengan **status code 200**. Jika tidak artinya data gagal untuk diambil."
   ]
  },
  {
   "cell_type": "code",
   "execution_count": 64,
   "metadata": {
    "colab": {},
    "colab_type": "code",
    "id": "CmIwnxXQT-76"
   },
   "outputs": [],
   "source": [
    "# Fungsi untuk mengambil data dari API\n",
    "def get_json(api_url):\n",
    "\tresponse = requests.get(api_url)\n",
    "\tif response.status_code == 200:\n",
    "\t\treturn json.loads(response.content.decode('utf-8'))\n",
    "\telse:\n",
    "\t\treturn None"
   ]
  },
  {
   "cell_type": "markdown",
   "metadata": {
    "colab_type": "text",
    "id": "EMiozcm-XMv1"
   },
   "source": [
    "## Memanggil API Covid19\n",
    "Tahap kedua adalah mengambil data covid-19. Rekapitulasi data COVID-19 global berada di https://covid19-api.org/. Lalu kita akan mengambil data covid19 di seluruh negara pada tanggal tertentu. Untuk kasus ini, record data yang diambil adalah **'2020-09-12'**, kemudian masukkan hasil respon api ke dalam variabel.\n",
    "\n",
    "Untuk mendapatkan dataframe covid-19, kita gunakan fungsi bawaan dari pandas yaitu **pd.io.json.json_normalize** dan panggil *function* yang sudah dibuat sebelumnya, yaitu **get_json()**. Lalu kita bisa menampilkan beberapa data awal sebagai sampel."
   ]
  },
  {
   "cell_type": "code",
   "execution_count": 65,
   "metadata": {
    "colab": {
     "base_uri": "https://localhost:8080/",
     "height": 204
    },
    "colab_type": "code",
    "id": "F6NgNgPWZXgL",
    "outputId": "51c99b45-33a4-4201-9930-8497ceb8f1a0"
   },
   "outputs": [
    {
     "data": {
      "text/html": [
       "<div>\n",
       "<style scoped>\n",
       "    .dataframe tbody tr th:only-of-type {\n",
       "        vertical-align: middle;\n",
       "    }\n",
       "\n",
       "    .dataframe tbody tr th {\n",
       "        vertical-align: top;\n",
       "    }\n",
       "\n",
       "    .dataframe thead th {\n",
       "        text-align: right;\n",
       "    }\n",
       "</style>\n",
       "<table border=\"1\" class=\"dataframe\">\n",
       "  <thead>\n",
       "    <tr style=\"text-align: right;\">\n",
       "      <th></th>\n",
       "      <th>country</th>\n",
       "      <th>last_update</th>\n",
       "      <th>cases</th>\n",
       "      <th>deaths</th>\n",
       "      <th>recovered</th>\n",
       "    </tr>\n",
       "  </thead>\n",
       "  <tbody>\n",
       "    <tr>\n",
       "      <th>0</th>\n",
       "      <td>US</td>\n",
       "      <td>2020-09-11T23:32:03</td>\n",
       "      <td>6440541</td>\n",
       "      <td>192886</td>\n",
       "      <td>2417878</td>\n",
       "    </tr>\n",
       "    <tr>\n",
       "      <th>1</th>\n",
       "      <td>IN</td>\n",
       "      <td>2020-09-11T23:32:03</td>\n",
       "      <td>4562414</td>\n",
       "      <td>76271</td>\n",
       "      <td>3542663</td>\n",
       "    </tr>\n",
       "    <tr>\n",
       "      <th>2</th>\n",
       "      <td>BR</td>\n",
       "      <td>2020-09-11T23:32:03</td>\n",
       "      <td>4238446</td>\n",
       "      <td>129522</td>\n",
       "      <td>3683047</td>\n",
       "    </tr>\n",
       "    <tr>\n",
       "      <th>3</th>\n",
       "      <td>RU</td>\n",
       "      <td>2020-09-11T23:32:03</td>\n",
       "      <td>1048257</td>\n",
       "      <td>18309</td>\n",
       "      <td>865646</td>\n",
       "    </tr>\n",
       "    <tr>\n",
       "      <th>4</th>\n",
       "      <td>PE</td>\n",
       "      <td>2020-09-11T23:32:03</td>\n",
       "      <td>710067</td>\n",
       "      <td>30344</td>\n",
       "      <td>544745</td>\n",
       "    </tr>\n",
       "  </tbody>\n",
       "</table>\n",
       "</div>"
      ],
      "text/plain": [
       "  country          last_update    cases  deaths  recovered\n",
       "0      US  2020-09-11T23:32:03  6440541  192886    2417878\n",
       "1      IN  2020-09-11T23:32:03  4562414   76271    3542663\n",
       "2      BR  2020-09-11T23:32:03  4238446  129522    3683047\n",
       "3      RU  2020-09-11T23:32:03  1048257   18309     865646\n",
       "4      PE  2020-09-11T23:32:03   710067   30344     544745"
      ]
     },
     "execution_count": 65,
     "metadata": {
      "tags": []
     },
     "output_type": "execute_result"
    }
   ],
   "source": [
    "# Mengambil record data covid-19 pada tanggal tertentu\n",
    "record_date = '2020-09-12'\n",
    "covid_url = 'https://covid19-api.org/api/status?date='+record_date\n",
    "\n",
    "# Membuat dataframe covid-19\n",
    "df_covid_worldwide = pd.io.json.json_normalize(get_json(covid_url))\n",
    "df_covid_worldwide.head()"
   ]
  },
  {
   "cell_type": "markdown",
   "metadata": {
    "colab_type": "text",
    "id": "XlYtq3TKaLUM"
   },
   "source": [
    "## Merubah Format date\n",
    "Terlihat data kolom **last_update** belum menggunakan format yang sesuai. Untuk itu kita akan ubah menjadi format nya menggunakan fungsi **pd.to_datetime** dengan format **YYYY-mm-dd HH:MM:SS**. Kemudian ubah bentuk *datetime* untuk mengambil *date only* dengan fungsi date() setiap baris nya."
   ]
  },
  {
   "cell_type": "code",
   "execution_count": 66,
   "metadata": {
    "colab": {},
    "colab_type": "code",
    "id": "0Q5vULTsc5TX"
   },
   "outputs": [],
   "source": [
    "# Merubah format data tanggal\n",
    "df_covid_worldwide['last_update'] = pd.to_datetime(df_covid_worldwide['last_update'], \n",
    "                                                   format='%Y-%m-%d %H:%M:%S')\n",
    "df_covid_worldwide['last_update'] = df_covid_worldwide['last_update'].apply(lambda x: x.date())"
   ]
  },
  {
   "cell_type": "code",
   "execution_count": 67,
   "metadata": {
    "colab": {
     "base_uri": "https://localhost:8080/",
     "height": 204
    },
    "colab_type": "code",
    "id": "ArGMnerHdve1",
    "outputId": "04b684b4-a30a-4cf0-c09d-9b1a1a14772e"
   },
   "outputs": [
    {
     "data": {
      "text/html": [
       "<div>\n",
       "<style scoped>\n",
       "    .dataframe tbody tr th:only-of-type {\n",
       "        vertical-align: middle;\n",
       "    }\n",
       "\n",
       "    .dataframe tbody tr th {\n",
       "        vertical-align: top;\n",
       "    }\n",
       "\n",
       "    .dataframe thead th {\n",
       "        text-align: right;\n",
       "    }\n",
       "</style>\n",
       "<table border=\"1\" class=\"dataframe\">\n",
       "  <thead>\n",
       "    <tr style=\"text-align: right;\">\n",
       "      <th></th>\n",
       "      <th>country</th>\n",
       "      <th>last_update</th>\n",
       "      <th>cases</th>\n",
       "      <th>deaths</th>\n",
       "      <th>recovered</th>\n",
       "    </tr>\n",
       "  </thead>\n",
       "  <tbody>\n",
       "    <tr>\n",
       "      <th>0</th>\n",
       "      <td>US</td>\n",
       "      <td>2020-09-11</td>\n",
       "      <td>6440541</td>\n",
       "      <td>192886</td>\n",
       "      <td>2417878</td>\n",
       "    </tr>\n",
       "    <tr>\n",
       "      <th>1</th>\n",
       "      <td>IN</td>\n",
       "      <td>2020-09-11</td>\n",
       "      <td>4562414</td>\n",
       "      <td>76271</td>\n",
       "      <td>3542663</td>\n",
       "    </tr>\n",
       "    <tr>\n",
       "      <th>2</th>\n",
       "      <td>BR</td>\n",
       "      <td>2020-09-11</td>\n",
       "      <td>4238446</td>\n",
       "      <td>129522</td>\n",
       "      <td>3683047</td>\n",
       "    </tr>\n",
       "    <tr>\n",
       "      <th>3</th>\n",
       "      <td>RU</td>\n",
       "      <td>2020-09-11</td>\n",
       "      <td>1048257</td>\n",
       "      <td>18309</td>\n",
       "      <td>865646</td>\n",
       "    </tr>\n",
       "    <tr>\n",
       "      <th>4</th>\n",
       "      <td>PE</td>\n",
       "      <td>2020-09-11</td>\n",
       "      <td>710067</td>\n",
       "      <td>30344</td>\n",
       "      <td>544745</td>\n",
       "    </tr>\n",
       "  </tbody>\n",
       "</table>\n",
       "</div>"
      ],
      "text/plain": [
       "  country last_update    cases  deaths  recovered\n",
       "0      US  2020-09-11  6440541  192886    2417878\n",
       "1      IN  2020-09-11  4562414   76271    3542663\n",
       "2      BR  2020-09-11  4238446  129522    3683047\n",
       "3      RU  2020-09-11  1048257   18309     865646\n",
       "4      PE  2020-09-11   710067   30344     544745"
      ]
     },
     "execution_count": 67,
     "metadata": {
      "tags": []
     },
     "output_type": "execute_result"
    }
   ],
   "source": [
    "# Tampilan data setelah diformat\n",
    "df_covid_worldwide.head()"
   ]
  },
  {
   "cell_type": "markdown",
   "metadata": {
    "colab_type": "text",
    "id": "6GtIXCTTfYBd"
   },
   "source": [
    "## Mengambil Data Countries\n",
    "Tahap berikutnya adalah mengambil data countries. Data tersebut berasal dari url https://covid19-api.org/api/countries. Lalu kita akan ambil hanya kolom **nama negara dan kode negara** saja untuk dijadikan dataframe."
   ]
  },
  {
   "cell_type": "code",
   "execution_count": 68,
   "metadata": {
    "colab": {
     "base_uri": "https://localhost:8080/",
     "height": 204
    },
    "colab_type": "code",
    "id": "4LFWTW7dgQAa",
    "outputId": "aeb85a00-3947-4f5a-b377-9f54341de76d"
   },
   "outputs": [
    {
     "data": {
      "text/html": [
       "<div>\n",
       "<style scoped>\n",
       "    .dataframe tbody tr th:only-of-type {\n",
       "        vertical-align: middle;\n",
       "    }\n",
       "\n",
       "    .dataframe tbody tr th {\n",
       "        vertical-align: top;\n",
       "    }\n",
       "\n",
       "    .dataframe thead th {\n",
       "        text-align: right;\n",
       "    }\n",
       "</style>\n",
       "<table border=\"1\" class=\"dataframe\">\n",
       "  <thead>\n",
       "    <tr style=\"text-align: right;\">\n",
       "      <th></th>\n",
       "      <th>name</th>\n",
       "      <th>country</th>\n",
       "    </tr>\n",
       "  </thead>\n",
       "  <tbody>\n",
       "    <tr>\n",
       "      <th>0</th>\n",
       "      <td>Afghanistan</td>\n",
       "      <td>AF</td>\n",
       "    </tr>\n",
       "    <tr>\n",
       "      <th>1</th>\n",
       "      <td>Albania</td>\n",
       "      <td>AL</td>\n",
       "    </tr>\n",
       "    <tr>\n",
       "      <th>2</th>\n",
       "      <td>Algeria</td>\n",
       "      <td>DZ</td>\n",
       "    </tr>\n",
       "    <tr>\n",
       "      <th>3</th>\n",
       "      <td>Andorra</td>\n",
       "      <td>AD</td>\n",
       "    </tr>\n",
       "    <tr>\n",
       "      <th>4</th>\n",
       "      <td>Angola</td>\n",
       "      <td>AO</td>\n",
       "    </tr>\n",
       "  </tbody>\n",
       "</table>\n",
       "</div>"
      ],
      "text/plain": [
       "          name country\n",
       "0  Afghanistan      AF\n",
       "1      Albania      AL\n",
       "2      Algeria      DZ\n",
       "3      Andorra      AD\n",
       "4       Angola      AO"
      ]
     },
     "execution_count": 68,
     "metadata": {
      "tags": []
     },
     "output_type": "execute_result"
    }
   ],
   "source": [
    "# Mengambil data countries dari API\n",
    "countries_url = 'https://covid19-api.org/api/countries'\n",
    "df_countries = pd.io.json.json_normalize(get_json(countries_url))\n",
    "\n",
    "# Ambil kolom yang digunakan\n",
    "df_countries = df_countries.rename(columns={'alpha2': 'country'})[['name','country']]\n",
    "\n",
    "df_countries.head()"
   ]
  },
  {
   "cell_type": "markdown",
   "metadata": {
    "colab_type": "text",
    "id": "7vJMZu8JgYJs"
   },
   "source": [
    "# Analisis COVID-19 di Dunia"
   ]
  },
  {
   "cell_type": "markdown",
   "metadata": {
    "colab_type": "text",
    "id": "cYgwHjcuh5Fq"
   },
   "source": [
    "## Merge Covid19 Data dan Countries\n",
    "Pertama kita akan gabungkan 2 *dataframe* yang telah dibuat sebelumnya yaitu **df_covid_worldwide** dan **df_countries** menggunakan fungsi **merge** berdasarkan kode negara atau kolom **country**. Lalu tampilkan 5 data teratas hasil *merge dataframe*."
   ]
  },
  {
   "cell_type": "code",
   "execution_count": 69,
   "metadata": {
    "colab": {
     "base_uri": "https://localhost:8080/",
     "height": 204
    },
    "colab_type": "code",
    "id": "l6fLJ-kFi72R",
    "outputId": "d398dd64-5ff5-47fa-97df-ec26864059dd"
   },
   "outputs": [
    {
     "data": {
      "text/html": [
       "<div>\n",
       "<style scoped>\n",
       "    .dataframe tbody tr th:only-of-type {\n",
       "        vertical-align: middle;\n",
       "    }\n",
       "\n",
       "    .dataframe tbody tr th {\n",
       "        vertical-align: top;\n",
       "    }\n",
       "\n",
       "    .dataframe thead th {\n",
       "        text-align: right;\n",
       "    }\n",
       "</style>\n",
       "<table border=\"1\" class=\"dataframe\">\n",
       "  <thead>\n",
       "    <tr style=\"text-align: right;\">\n",
       "      <th></th>\n",
       "      <th>country</th>\n",
       "      <th>last_update</th>\n",
       "      <th>cases</th>\n",
       "      <th>deaths</th>\n",
       "      <th>recovered</th>\n",
       "      <th>name</th>\n",
       "    </tr>\n",
       "  </thead>\n",
       "  <tbody>\n",
       "    <tr>\n",
       "      <th>0</th>\n",
       "      <td>US</td>\n",
       "      <td>2020-09-11</td>\n",
       "      <td>6440541</td>\n",
       "      <td>192886</td>\n",
       "      <td>2417878</td>\n",
       "      <td>United States of America</td>\n",
       "    </tr>\n",
       "    <tr>\n",
       "      <th>1</th>\n",
       "      <td>IN</td>\n",
       "      <td>2020-09-11</td>\n",
       "      <td>4562414</td>\n",
       "      <td>76271</td>\n",
       "      <td>3542663</td>\n",
       "      <td>India</td>\n",
       "    </tr>\n",
       "    <tr>\n",
       "      <th>2</th>\n",
       "      <td>BR</td>\n",
       "      <td>2020-09-11</td>\n",
       "      <td>4238446</td>\n",
       "      <td>129522</td>\n",
       "      <td>3683047</td>\n",
       "      <td>Brazil</td>\n",
       "    </tr>\n",
       "    <tr>\n",
       "      <th>3</th>\n",
       "      <td>RU</td>\n",
       "      <td>2020-09-11</td>\n",
       "      <td>1048257</td>\n",
       "      <td>18309</td>\n",
       "      <td>865646</td>\n",
       "      <td>Russian Federation</td>\n",
       "    </tr>\n",
       "    <tr>\n",
       "      <th>4</th>\n",
       "      <td>PE</td>\n",
       "      <td>2020-09-11</td>\n",
       "      <td>710067</td>\n",
       "      <td>30344</td>\n",
       "      <td>544745</td>\n",
       "      <td>Peru</td>\n",
       "    </tr>\n",
       "  </tbody>\n",
       "</table>\n",
       "</div>"
      ],
      "text/plain": [
       "  country last_update    cases  deaths  recovered                      name\n",
       "0      US  2020-09-11  6440541  192886    2417878  United States of America\n",
       "1      IN  2020-09-11  4562414   76271    3542663                     India\n",
       "2      BR  2020-09-11  4238446  129522    3683047                    Brazil\n",
       "3      RU  2020-09-11  1048257   18309     865646        Russian Federation\n",
       "4      PE  2020-09-11   710067   30344     544745                      Peru"
      ]
     },
     "execution_count": 69,
     "metadata": {
      "tags": []
     },
     "output_type": "execute_result"
    }
   ],
   "source": [
    "# Merge dataframe\n",
    "df_covid_denormalized = pd.merge(df_covid_worldwide, df_countries, on='country')\n",
    "\n",
    "# Menampilkan 5 data teratas\n",
    "df_covid_denormalized.head()"
   ]
  },
  {
   "cell_type": "markdown",
   "metadata": {
    "colab_type": "text",
    "id": "DYwLIqZcnYsc"
   },
   "source": [
    "Terlihat negara **United States of Amerika** memiliki kasus covid-19 terbanyak yaitu 6.440.541 kasus pada update terkini."
   ]
  },
  {
   "cell_type": "markdown",
   "metadata": {
    "colab_type": "text",
    "id": "8n63dbf1jm7f"
   },
   "source": [
    "## Menghitung Fatality Ratio\n",
    "Selanjutnya kita akan mencari rasio tingkat kematian dari total kasus yang terjadi pada tiap negara. Caranya adalah menambahkan kolom baru bernama **fatality_ratio**, yang merupakan pembagian antara kolom **deaths** dan **cases**."
   ]
  },
  {
   "cell_type": "code",
   "execution_count": 70,
   "metadata": {
    "colab": {
     "base_uri": "https://localhost:8080/",
     "height": 204
    },
    "colab_type": "code",
    "id": "Zy_rHX8akgl_",
    "outputId": "21b35a5f-2232-4bf5-e599-65f66a8546e1"
   },
   "outputs": [
    {
     "data": {
      "text/html": [
       "<div>\n",
       "<style scoped>\n",
       "    .dataframe tbody tr th:only-of-type {\n",
       "        vertical-align: middle;\n",
       "    }\n",
       "\n",
       "    .dataframe tbody tr th {\n",
       "        vertical-align: top;\n",
       "    }\n",
       "\n",
       "    .dataframe thead th {\n",
       "        text-align: right;\n",
       "    }\n",
       "</style>\n",
       "<table border=\"1\" class=\"dataframe\">\n",
       "  <thead>\n",
       "    <tr style=\"text-align: right;\">\n",
       "      <th></th>\n",
       "      <th>country</th>\n",
       "      <th>last_update</th>\n",
       "      <th>cases</th>\n",
       "      <th>deaths</th>\n",
       "      <th>recovered</th>\n",
       "      <th>name</th>\n",
       "      <th>fatality_ratio</th>\n",
       "    </tr>\n",
       "  </thead>\n",
       "  <tbody>\n",
       "    <tr>\n",
       "      <th>0</th>\n",
       "      <td>US</td>\n",
       "      <td>2020-09-11</td>\n",
       "      <td>6440541</td>\n",
       "      <td>192886</td>\n",
       "      <td>2417878</td>\n",
       "      <td>United States of America</td>\n",
       "      <td>0.029949</td>\n",
       "    </tr>\n",
       "    <tr>\n",
       "      <th>1</th>\n",
       "      <td>IN</td>\n",
       "      <td>2020-09-11</td>\n",
       "      <td>4562414</td>\n",
       "      <td>76271</td>\n",
       "      <td>3542663</td>\n",
       "      <td>India</td>\n",
       "      <td>0.016717</td>\n",
       "    </tr>\n",
       "    <tr>\n",
       "      <th>2</th>\n",
       "      <td>BR</td>\n",
       "      <td>2020-09-11</td>\n",
       "      <td>4238446</td>\n",
       "      <td>129522</td>\n",
       "      <td>3683047</td>\n",
       "      <td>Brazil</td>\n",
       "      <td>0.030559</td>\n",
       "    </tr>\n",
       "    <tr>\n",
       "      <th>3</th>\n",
       "      <td>RU</td>\n",
       "      <td>2020-09-11</td>\n",
       "      <td>1048257</td>\n",
       "      <td>18309</td>\n",
       "      <td>865646</td>\n",
       "      <td>Russian Federation</td>\n",
       "      <td>0.017466</td>\n",
       "    </tr>\n",
       "    <tr>\n",
       "      <th>4</th>\n",
       "      <td>PE</td>\n",
       "      <td>2020-09-11</td>\n",
       "      <td>710067</td>\n",
       "      <td>30344</td>\n",
       "      <td>544745</td>\n",
       "      <td>Peru</td>\n",
       "      <td>0.042734</td>\n",
       "    </tr>\n",
       "  </tbody>\n",
       "</table>\n",
       "</div>"
      ],
      "text/plain": [
       "  country last_update  ...                      name  fatality_ratio\n",
       "0      US  2020-09-11  ...  United States of America        0.029949\n",
       "1      IN  2020-09-11  ...                     India        0.016717\n",
       "2      BR  2020-09-11  ...                    Brazil        0.030559\n",
       "3      RU  2020-09-11  ...        Russian Federation        0.017466\n",
       "4      PE  2020-09-11  ...                      Peru        0.042734\n",
       "\n",
       "[5 rows x 7 columns]"
      ]
     },
     "execution_count": 70,
     "metadata": {
      "tags": []
     },
     "output_type": "execute_result"
    }
   ],
   "source": [
    "# Mencari fatality ratio tiap negara\n",
    "df_covid_denormalized['fatality_ratio'] = df_covid_denormalized['deaths']/df_covid_denormalized['cases']\n",
    "\n",
    "df_covid_denormalized.head()"
   ]
  },
  {
   "cell_type": "markdown",
   "metadata": {
    "colab_type": "text",
    "id": "NqEaor7AlVH1"
   },
   "source": [
    "## Top 20 Negara dengan Fatality Ratio Tertinggi\n",
    "Kita akan ambil **20 negara teratas** dengan kolom fatality_ratio tertinggi dengan mengurutkan data secara descending menggunakan fungsi **sort_values**."
   ]
  },
  {
   "cell_type": "code",
   "execution_count": 71,
   "metadata": {
    "colab": {
     "base_uri": "https://localhost:8080/",
     "height": 669
    },
    "colab_type": "code",
    "id": "-9fZNK6Hk-xu",
    "outputId": "68dfc3f4-26e2-4b67-d622-9a7353b603d1"
   },
   "outputs": [
    {
     "data": {
      "text/html": [
       "<div>\n",
       "<style scoped>\n",
       "    .dataframe tbody tr th:only-of-type {\n",
       "        vertical-align: middle;\n",
       "    }\n",
       "\n",
       "    .dataframe tbody tr th {\n",
       "        vertical-align: top;\n",
       "    }\n",
       "\n",
       "    .dataframe thead th {\n",
       "        text-align: right;\n",
       "    }\n",
       "</style>\n",
       "<table border=\"1\" class=\"dataframe\">\n",
       "  <thead>\n",
       "    <tr style=\"text-align: right;\">\n",
       "      <th></th>\n",
       "      <th>country</th>\n",
       "      <th>last_update</th>\n",
       "      <th>cases</th>\n",
       "      <th>deaths</th>\n",
       "      <th>recovered</th>\n",
       "      <th>name</th>\n",
       "      <th>fatality_ratio</th>\n",
       "    </tr>\n",
       "  </thead>\n",
       "  <tbody>\n",
       "    <tr>\n",
       "      <th>143</th>\n",
       "      <td>YE</td>\n",
       "      <td>2020-09-11</td>\n",
       "      <td>2007</td>\n",
       "      <td>582</td>\n",
       "      <td>1211</td>\n",
       "      <td>Yemen</td>\n",
       "      <td>0.289985</td>\n",
       "    </tr>\n",
       "    <tr>\n",
       "      <th>18</th>\n",
       "      <td>IT</td>\n",
       "      <td>2020-09-11</td>\n",
       "      <td>284796</td>\n",
       "      <td>35597</td>\n",
       "      <td>212432</td>\n",
       "      <td>Italy</td>\n",
       "      <td>0.124991</td>\n",
       "    </tr>\n",
       "    <tr>\n",
       "      <th>13</th>\n",
       "      <td>GB</td>\n",
       "      <td>2020-09-11</td>\n",
       "      <td>364085</td>\n",
       "      <td>41703</td>\n",
       "      <td>1848</td>\n",
       "      <td>United Kingdom of Great Britain and Northern I...</td>\n",
       "      <td>0.114542</td>\n",
       "    </tr>\n",
       "    <tr>\n",
       "      <th>35</th>\n",
       "      <td>BE</td>\n",
       "      <td>2020-09-11</td>\n",
       "      <td>90568</td>\n",
       "      <td>9917</td>\n",
       "      <td>18659</td>\n",
       "      <td>Belgium</td>\n",
       "      <td>0.109498</td>\n",
       "    </tr>\n",
       "    <tr>\n",
       "      <th>6</th>\n",
       "      <td>MX</td>\n",
       "      <td>2020-09-11</td>\n",
       "      <td>652364</td>\n",
       "      <td>69649</td>\n",
       "      <td>541804</td>\n",
       "      <td>Mexico</td>\n",
       "      <td>0.106764</td>\n",
       "    </tr>\n",
       "    <tr>\n",
       "      <th>191</th>\n",
       "      <td>EH</td>\n",
       "      <td>2020-09-11</td>\n",
       "      <td>10</td>\n",
       "      <td>1</td>\n",
       "      <td>8</td>\n",
       "      <td>Western Sahara</td>\n",
       "      <td>0.100000</td>\n",
       "    </tr>\n",
       "    <tr>\n",
       "      <th>28</th>\n",
       "      <td>EC</td>\n",
       "      <td>2020-09-11</td>\n",
       "      <td>113206</td>\n",
       "      <td>10749</td>\n",
       "      <td>91242</td>\n",
       "      <td>Ecuador</td>\n",
       "      <td>0.094951</td>\n",
       "    </tr>\n",
       "    <tr>\n",
       "      <th>11</th>\n",
       "      <td>FR</td>\n",
       "      <td>2020-09-11</td>\n",
       "      <td>401794</td>\n",
       "      <td>30899</td>\n",
       "      <td>89823</td>\n",
       "      <td>France</td>\n",
       "      <td>0.076903</td>\n",
       "    </tr>\n",
       "    <tr>\n",
       "      <th>39</th>\n",
       "      <td>NL</td>\n",
       "      <td>2020-09-11</td>\n",
       "      <td>83369</td>\n",
       "      <td>6290</td>\n",
       "      <td>1846</td>\n",
       "      <td>Netherlands</td>\n",
       "      <td>0.075448</td>\n",
       "    </tr>\n",
       "    <tr>\n",
       "      <th>157</th>\n",
       "      <td>TD</td>\n",
       "      <td>2020-09-11</td>\n",
       "      <td>1081</td>\n",
       "      <td>79</td>\n",
       "      <td>934</td>\n",
       "      <td>Chad</td>\n",
       "      <td>0.073080</td>\n",
       "    </tr>\n",
       "    <tr>\n",
       "      <th>38</th>\n",
       "      <td>SE</td>\n",
       "      <td>2020-09-11</td>\n",
       "      <td>86505</td>\n",
       "      <td>5846</td>\n",
       "      <td>0</td>\n",
       "      <td>Sweden</td>\n",
       "      <td>0.067580</td>\n",
       "    </tr>\n",
       "    <tr>\n",
       "      <th>25</th>\n",
       "      <td>CA</td>\n",
       "      <td>2020-09-11</td>\n",
       "      <td>137531</td>\n",
       "      <td>9214</td>\n",
       "      <td>121523</td>\n",
       "      <td>Canada</td>\n",
       "      <td>0.066996</td>\n",
       "    </tr>\n",
       "    <tr>\n",
       "      <th>181</th>\n",
       "      <td>FJ</td>\n",
       "      <td>2020-09-11</td>\n",
       "      <td>32</td>\n",
       "      <td>2</td>\n",
       "      <td>24</td>\n",
       "      <td>Fiji</td>\n",
       "      <td>0.062500</td>\n",
       "    </tr>\n",
       "    <tr>\n",
       "      <th>154</th>\n",
       "      <td>LR</td>\n",
       "      <td>2020-09-11</td>\n",
       "      <td>1315</td>\n",
       "      <td>82</td>\n",
       "      <td>1199</td>\n",
       "      <td>Liberia</td>\n",
       "      <td>0.062357</td>\n",
       "    </tr>\n",
       "    <tr>\n",
       "      <th>84</th>\n",
       "      <td>SD</td>\n",
       "      <td>2020-09-11</td>\n",
       "      <td>13470</td>\n",
       "      <td>834</td>\n",
       "      <td>6731</td>\n",
       "      <td>Sudan</td>\n",
       "      <td>0.061915</td>\n",
       "    </tr>\n",
       "    <tr>\n",
       "      <th>155</th>\n",
       "      <td>NE</td>\n",
       "      <td>2020-09-11</td>\n",
       "      <td>1178</td>\n",
       "      <td>69</td>\n",
       "      <td>1100</td>\n",
       "      <td>Niger</td>\n",
       "      <td>0.058574</td>\n",
       "    </tr>\n",
       "    <tr>\n",
       "      <th>68</th>\n",
       "      <td>IE</td>\n",
       "      <td>2020-09-11</td>\n",
       "      <td>30571</td>\n",
       "      <td>1781</td>\n",
       "      <td>23364</td>\n",
       "      <td>Ireland</td>\n",
       "      <td>0.058258</td>\n",
       "    </tr>\n",
       "    <tr>\n",
       "      <th>160</th>\n",
       "      <td>SM</td>\n",
       "      <td>2020-09-11</td>\n",
       "      <td>722</td>\n",
       "      <td>42</td>\n",
       "      <td>662</td>\n",
       "      <td>San Marino</td>\n",
       "      <td>0.058172</td>\n",
       "    </tr>\n",
       "    <tr>\n",
       "      <th>26</th>\n",
       "      <td>BO</td>\n",
       "      <td>2020-09-11</td>\n",
       "      <td>124205</td>\n",
       "      <td>7193</td>\n",
       "      <td>79483</td>\n",
       "      <td>Plurinational State of Bolivia</td>\n",
       "      <td>0.057912</td>\n",
       "    </tr>\n",
       "    <tr>\n",
       "      <th>91</th>\n",
       "      <td>HU</td>\n",
       "      <td>2020-09-11</td>\n",
       "      <td>10909</td>\n",
       "      <td>631</td>\n",
       "      <td>4014</td>\n",
       "      <td>Hungary</td>\n",
       "      <td>0.057842</td>\n",
       "    </tr>\n",
       "  </tbody>\n",
       "</table>\n",
       "</div>"
      ],
      "text/plain": [
       "    country  ... fatality_ratio\n",
       "143      YE  ...       0.289985\n",
       "18       IT  ...       0.124991\n",
       "13       GB  ...       0.114542\n",
       "35       BE  ...       0.109498\n",
       "6        MX  ...       0.106764\n",
       "191      EH  ...       0.100000\n",
       "28       EC  ...       0.094951\n",
       "11       FR  ...       0.076903\n",
       "39       NL  ...       0.075448\n",
       "157      TD  ...       0.073080\n",
       "38       SE  ...       0.067580\n",
       "25       CA  ...       0.066996\n",
       "181      FJ  ...       0.062500\n",
       "154      LR  ...       0.062357\n",
       "84       SD  ...       0.061915\n",
       "155      NE  ...       0.058574\n",
       "68       IE  ...       0.058258\n",
       "160      SM  ...       0.058172\n",
       "26       BO  ...       0.057912\n",
       "91       HU  ...       0.057842\n",
       "\n",
       "[20 rows x 7 columns]"
      ]
     },
     "execution_count": 71,
     "metadata": {
      "tags": []
     },
     "output_type": "execute_result"
    }
   ],
   "source": [
    "# Menampilkan 20 Negara dengan fatality ratio tertinggi\n",
    "df_fatality_rate = df_covid_denormalized.sort_values(by='fatality_ratio', ascending=False)\n",
    "\n",
    "df_top_20_fatality_rate = df_fatality_rate.head(20)\n",
    "df_top_20_fatality_rate"
   ]
  },
  {
   "cell_type": "markdown",
   "metadata": {
    "colab_type": "text",
    "id": "pFu51OGSoJVp"
   },
   "source": [
    "## Visualisasi Top 20 Negara dengan Fatality Rate Tertinggi\n",
    "Untuk memvisualisasikan negara-negara dengan kasus fatality rate tertinggi akibat covid-19 ini dapat dilakukan dengan menggunakan bar chart. Dimana sumbu x adalah kolom **name** (nama negara), dan sumbu y adalah kolom **fatality_ratio**, lalu gunakan fungsi plt.barh(x, y) dari library matplotlib agar nama negara terlihat jelas."
   ]
  },
  {
   "cell_type": "code",
   "execution_count": 72,
   "metadata": {
    "colab": {
     "base_uri": "https://localhost:8080/",
     "height": 472
    },
    "colab_type": "code",
    "id": "C_3I210-odtM",
    "outputId": "278f085f-44f4-4207-b273-a7ccdef9045f"
   },
   "outputs": [
    {
     "data": {
      "image/png": "[encoded data removed]",
      "text/plain": [
       "<Figure size 936x576 with 1 Axes>"
      ]
     },
     "metadata": {
      "needs_background": "light",
      "tags": []
     },
     "output_type": "display_data"
    }
   ],
   "source": [
    "# Membuat grafik Top 20 Negara\n",
    "plt.figure(figsize=(13, 8))\n",
    "\n",
    "top_20 = df_top_20_fatality_rate.sort_values(by='fatality_ratio')\n",
    "x = top_20['name']\n",
    "y = top_20['fatality_ratio']\n",
    "plt.barh(x,y)\n",
    "\n",
    "# Labeling axis\n",
    "plt.xlabel('Fatality Rate')\n",
    "plt.ylabel('Country Name')\n",
    "plt.title('Top 20 Highest Fatality Rate Countries')\n",
    "# plt.xticks(rotation=90)\n",
    "# plt.tight_layout()\n",
    "\n",
    "plt.show()"
   ]
  },
  {
   "cell_type": "markdown",
   "metadata": {
    "colab_type": "text",
    "id": "WREpuchXm2Sj"
   },
   "source": [
    "Dari grafik tersebut dapat disimpulkan **Negara Yemen** memiliki fatality ratio tertinggi yaitu **0.289985**, walaupun memiliki total kasus lebih sedikit dibandingkan Italy di peringkat kedua."
   ]
  },
  {
   "cell_type": "markdown",
   "metadata": {
    "colab_type": "text",
    "id": "ctoBeD9ZrY5j"
   },
   "source": [
    "# Analisis COVID-19 di ASEAN"
   ]
  },
  {
   "cell_type": "markdown",
   "metadata": {
    "colab_type": "text",
    "id": "nvd3z_zLrfwI"
   },
   "source": [
    "## Menggabungkan Dataframe\n",
    "Kali ini kita akan membandingkan kasus covid-19 di negara ASEAN, yaitu Indonesia, Thailand, Singapore, Malaysia, Philippines, Vietnam, Brunei, Myanmar (Burma), Cambodia, Laos. Berikut adalah kode negara ASEAN yang akan kita masukkan sebagai list.\n",
    "\n",
    "- ID -> Indonesia\n",
    "- TH -> Thailand\n",
    "- SG -> Singapore\n",
    "- MY -> Malaysia\n",
    "- PH -> Philippines\n",
    "- VN -> Vietnam\n",
    "- BN -> Brunei\n",
    "- MM -> Myanmar\n",
    "- KH -> Cambodia\n",
    "- LA -> Laos\n",
    "\n",
    "Untuk itu, API country akan dipanggil berkali-kali sebanyak negara yang ada di list tersebut menggunakan perulanagan/looping. Tahapan mengambil data API masih sama seperti di awal."
   ]
  },
  {
   "cell_type": "code",
   "execution_count": 73,
   "metadata": {
    "colab": {
     "base_uri": "https://localhost:8080/",
     "height": 204
    },
    "colab_type": "code",
    "id": "cdcyS3G3wzbl",
    "outputId": "4d8b508e-3e7d-4c31-eff9-d4f318e44a79"
   },
   "outputs": [
    {
     "data": {
      "text/html": [
       "<div>\n",
       "<style scoped>\n",
       "    .dataframe tbody tr th:only-of-type {\n",
       "        vertical-align: middle;\n",
       "    }\n",
       "\n",
       "    .dataframe tbody tr th {\n",
       "        vertical-align: top;\n",
       "    }\n",
       "\n",
       "    .dataframe thead th {\n",
       "        text-align: right;\n",
       "    }\n",
       "</style>\n",
       "<table border=\"1\" class=\"dataframe\">\n",
       "  <thead>\n",
       "    <tr style=\"text-align: right;\">\n",
       "      <th></th>\n",
       "      <th>country</th>\n",
       "      <th>last_update</th>\n",
       "      <th>cases</th>\n",
       "      <th>deaths</th>\n",
       "      <th>recovered</th>\n",
       "    </tr>\n",
       "  </thead>\n",
       "  <tbody>\n",
       "    <tr>\n",
       "      <th>0</th>\n",
       "      <td>LA</td>\n",
       "      <td>2020-09-12</td>\n",
       "      <td>23</td>\n",
       "      <td>0</td>\n",
       "      <td>21</td>\n",
       "    </tr>\n",
       "    <tr>\n",
       "      <th>1</th>\n",
       "      <td>LA</td>\n",
       "      <td>2020-09-11</td>\n",
       "      <td>23</td>\n",
       "      <td>0</td>\n",
       "      <td>21</td>\n",
       "    </tr>\n",
       "    <tr>\n",
       "      <th>2</th>\n",
       "      <td>LA</td>\n",
       "      <td>2020-09-10</td>\n",
       "      <td>22</td>\n",
       "      <td>0</td>\n",
       "      <td>21</td>\n",
       "    </tr>\n",
       "    <tr>\n",
       "      <th>3</th>\n",
       "      <td>LA</td>\n",
       "      <td>2020-09-09</td>\n",
       "      <td>22</td>\n",
       "      <td>0</td>\n",
       "      <td>21</td>\n",
       "    </tr>\n",
       "    <tr>\n",
       "      <th>4</th>\n",
       "      <td>LA</td>\n",
       "      <td>2020-09-08</td>\n",
       "      <td>22</td>\n",
       "      <td>0</td>\n",
       "      <td>21</td>\n",
       "    </tr>\n",
       "  </tbody>\n",
       "</table>\n",
       "</div>"
      ],
      "text/plain": [
       "  country last_update  cases  deaths  recovered\n",
       "0      LA  2020-09-12     23       0         21\n",
       "1      LA  2020-09-11     23       0         21\n",
       "2      LA  2020-09-10     22       0         21\n",
       "3      LA  2020-09-09     22       0         21\n",
       "4      LA  2020-09-08     22       0         21"
      ]
     },
     "execution_count": 73,
     "metadata": {
      "tags": []
     },
     "output_type": "execute_result"
    }
   ],
   "source": [
    "# Membuat list kode negara ASEAN\n",
    "countries = ['ID','TH','SG','MY','PH','VN','BN','MM','KH','LA']\n",
    "\n",
    "# Looping untk mengambil data covid-19 tiap negara\n",
    "i = 0\n",
    "for country in countries:\n",
    "\tcovid_timeline_url = 'https://covid19-api.org/api/timeline/'+country\n",
    "\tdf_covid_timeline = pd.io.json.json_normalize(get_json(covid_timeline_url))\n",
    "\tdf_covid_timeline['last_update'] = pd.to_datetime(df_covid_timeline['last_update'], format='%Y-%m-%dT%H:%M:%S')\n",
    "\tdf_covid_timeline['last_update'] = df_covid_timeline['last_update'].apply(lambda x: x.date())\n",
    "\tif i==0:\n",
    "\t\tdf_covid_timeline_merged = df_covid_timeline\n",
    "\telse:\n",
    "\t\tdf_covid_timeline_merged = df_covid_timeline.append(df_covid_timeline_merged, ignore_index=True)\n",
    "\ti=i+1\n",
    "\n",
    "df_covid_timeline_merged.head()"
   ]
  },
  {
   "cell_type": "markdown",
   "metadata": {
    "colab_type": "text",
    "id": "V6Rfa2iHx7b0"
   },
   "source": [
    "## Merge Data Covid19 Dengan Data Country\n",
    "Tahap berikutnya adalah menggabungkan 2 dataframe yaitu **df_covid_timeline_merged** dengan **df_countries** dengan kolom country (kode negara) sebagai pivot."
   ]
  },
  {
   "cell_type": "code",
   "execution_count": 74,
   "metadata": {
    "colab": {
     "base_uri": "https://localhost:8080/",
     "height": 204
    },
    "colab_type": "code",
    "id": "23etDxfAyJsD",
    "outputId": "a463afa6-39a0-4bf5-cf01-e353dbc8ce5b"
   },
   "outputs": [
    {
     "data": {
      "text/html": [
       "<div>\n",
       "<style scoped>\n",
       "    .dataframe tbody tr th:only-of-type {\n",
       "        vertical-align: middle;\n",
       "    }\n",
       "\n",
       "    .dataframe tbody tr th {\n",
       "        vertical-align: top;\n",
       "    }\n",
       "\n",
       "    .dataframe thead th {\n",
       "        text-align: right;\n",
       "    }\n",
       "</style>\n",
       "<table border=\"1\" class=\"dataframe\">\n",
       "  <thead>\n",
       "    <tr style=\"text-align: right;\">\n",
       "      <th></th>\n",
       "      <th>country</th>\n",
       "      <th>last_update</th>\n",
       "      <th>cases</th>\n",
       "      <th>deaths</th>\n",
       "      <th>recovered</th>\n",
       "      <th>name</th>\n",
       "    </tr>\n",
       "  </thead>\n",
       "  <tbody>\n",
       "    <tr>\n",
       "      <th>0</th>\n",
       "      <td>LA</td>\n",
       "      <td>2020-09-12</td>\n",
       "      <td>23</td>\n",
       "      <td>0</td>\n",
       "      <td>21</td>\n",
       "      <td>Lao People's Democratic Republic</td>\n",
       "    </tr>\n",
       "    <tr>\n",
       "      <th>1</th>\n",
       "      <td>LA</td>\n",
       "      <td>2020-09-11</td>\n",
       "      <td>23</td>\n",
       "      <td>0</td>\n",
       "      <td>21</td>\n",
       "      <td>Lao People's Democratic Republic</td>\n",
       "    </tr>\n",
       "    <tr>\n",
       "      <th>2</th>\n",
       "      <td>LA</td>\n",
       "      <td>2020-09-10</td>\n",
       "      <td>22</td>\n",
       "      <td>0</td>\n",
       "      <td>21</td>\n",
       "      <td>Lao People's Democratic Republic</td>\n",
       "    </tr>\n",
       "    <tr>\n",
       "      <th>3</th>\n",
       "      <td>LA</td>\n",
       "      <td>2020-09-09</td>\n",
       "      <td>22</td>\n",
       "      <td>0</td>\n",
       "      <td>21</td>\n",
       "      <td>Lao People's Democratic Republic</td>\n",
       "    </tr>\n",
       "    <tr>\n",
       "      <th>4</th>\n",
       "      <td>LA</td>\n",
       "      <td>2020-09-08</td>\n",
       "      <td>22</td>\n",
       "      <td>0</td>\n",
       "      <td>21</td>\n",
       "      <td>Lao People's Democratic Republic</td>\n",
       "    </tr>\n",
       "  </tbody>\n",
       "</table>\n",
       "</div>"
      ],
      "text/plain": [
       "  country last_update  ...  recovered                              name\n",
       "0      LA  2020-09-12  ...         21  Lao People's Democratic Republic\n",
       "1      LA  2020-09-11  ...         21  Lao People's Democratic Republic\n",
       "2      LA  2020-09-10  ...         21  Lao People's Democratic Republic\n",
       "3      LA  2020-09-09  ...         21  Lao People's Democratic Republic\n",
       "4      LA  2020-09-08  ...         21  Lao People's Democratic Republic\n",
       "\n",
       "[5 rows x 6 columns]"
      ]
     },
     "execution_count": 74,
     "metadata": {
      "tags": []
     },
     "output_type": "execute_result"
    }
   ],
   "source": [
    "# Merge Data Covid-19 dan Country\n",
    "df_covid_timeline_denormalized = pd.merge(df_covid_timeline_merged, df_countries, on='country')\n",
    "\n",
    "df_covid_timeline_denormalized.head()"
   ]
  },
  {
   "cell_type": "markdown",
   "metadata": {
    "colab_type": "text",
    "id": "GjCI4QCZ1sUL"
   },
   "source": [
    "## Pertumbuhan Kasus Covid-19 di ASEAN\n",
    "Untuk melihat pertumbuhan kasus covid-19, kita akan memfilter kolom last_update dari data covid-19 sehingga hanya data dari **tanggal 1 Maret 2020** ke atas yang diambil menggunakan fungsi **datetime.date** dari library datetime dengan format (YYYY, mm, dd)."
   ]
  },
  {
   "cell_type": "code",
   "execution_count": 75,
   "metadata": {
    "colab": {},
    "colab_type": "code",
    "id": "pU7KHHGJ2ZXa"
   },
   "outputs": [],
   "source": [
    "import datetime\n",
    "\n",
    "# Filter pertumbuhan covid-19 pada tanggal tertentu\n",
    "df_covid_timeline_denormalized = df_covid_timeline_denormalized[(df_covid_timeline_denormalized['last_update'] >= datetime.date(2020, 3, 1))]\n"
   ]
  },
  {
   "cell_type": "markdown",
   "metadata": {
    "colab_type": "text",
    "id": "t47URxui3WO1"
   },
   "source": [
    "## Visualisasi Kasus Covid-19 di ASEAN\n",
    "Untuk menggambarkan pertumbuhan kasus covid-19, kita akan gunakan line chart. Dimana sumbu x adalah tanggal (**last_update**) pada tiap-tiap negara dan y adalah jumlah kasus (**cases**) pada tiap-tiap negara."
   ]
  },
  {
   "cell_type": "code",
   "execution_count": 76,
   "metadata": {
    "colab": {
     "base_uri": "https://localhost:8080/",
     "height": 458
    },
    "colab_type": "code",
    "id": "B_6pfcow4IDl",
    "outputId": "430c273d-76f2-4bcb-a85d-4af70f55f4dd"
   },
   "outputs": [
    {
     "data": {
      "image/png": "[encoded data removed]",
      "text/plain": [
       "<Figure size 864x504 with 1 Axes>"
      ]
     },
     "metadata": {
      "needs_background": "light",
      "tags": []
     },
     "output_type": "display_data"
    }
   ],
   "source": [
    "# List negara ASEAN\n",
    "countries = ['ID','TH','SG','MY','PH','VN','BN','MM','KH','LA']\n",
    "\n",
    "# Membuat perulangan line chart tiap negara\n",
    "\n",
    "plt.figure(figsize=(12,7))\n",
    "for country in countries:\n",
    "\tcountry_data = df_covid_timeline_denormalized['country']==country\n",
    "\tx = df_covid_timeline_denormalized[country_data]['last_update']\n",
    "\ty = df_covid_timeline_denormalized[country_data]['cases']\n",
    "\tplt.plot(x, y, label = country)\n",
    "\n",
    "plt.legend()\n",
    "plt.xlabel('Record Date')\n",
    "plt.ylabel('Total Cases')\n",
    "plt.title('Asean Covid19 Cases Comparison')\n",
    "\n",
    "plt.show()"
   ]
  },
  {
   "cell_type": "markdown",
   "metadata": {
    "colab_type": "text",
    "id": "xnVytI_R683t"
   },
   "source": [
    "Dari grafik di atas dapat disimpulkan **Negara Philippines** memiliki jumlah kasus terbanyak di ASEAN yaitu **diatas 250.000 kasus**, disusul Indonesia di peringkat 2, dan Singapore di peringkat 3."
   ]
  }
 ],
 "metadata": {
  "colab": {
   "name": "Analisis_Data_COVID19.ipynb",
   "provenance": [],
   "toc_visible": true
  },
  "kernelspec": {
   "display_name": "Python 3",
   "language": "python",
   "name": "python3"
  },
  "language_info": {
   "codemirror_mode": {
    "name": "ipython",
    "version": 3
   },
   "file_extension": ".py",
   "mimetype": "text/x-python",
   "name": "python",
   "nbconvert_exporter": "python",
   "pygments_lexer": "ipython3",
   "version": "3.8.5"
  }
 },
 "nbformat": 4,
 "nbformat_minor": 1
}
